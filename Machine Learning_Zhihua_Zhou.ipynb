{
 "cells": [
  {
   "cell_type": "markdown",
   "id": "6dad00fe",
   "metadata": {},
   "source": [
    "# Machine Learning #"
   ]
  },
  {
   "cell_type": "markdown",
   "id": "bf13bea1",
   "metadata": {},
   "source": [
    "## 基本术语"
   ]
  },
  {
   "cell_type": "markdown",
   "id": "c640050a",
   "metadata": {},
   "source": [
    "1. Data set(数据集):\n",
    "\n",
    "    是一个关于sample, instance 的集合"
   ]
  },
  {
   "cell_type": "markdown",
   "id": "9cd2c57c",
   "metadata": {},
   "source": [
    "2. Instance(示例), Sample(样本):\n",
    "\n",
    "    是关于某一个对象的描述, 含有多种attribute(属性) 和attribute value(属性值)"
   ]
  },
  {
   "cell_type": "markdown",
   "id": "5cce385d",
   "metadata": {},
   "source": [
    "3. attribute(属性), attribute value(属性值):\n",
    "    \n",
    "    是反映sample在某一方面的性质以及取值"
   ]
  },
  {
   "cell_type": "markdown",
   "id": "5f20a37e",
   "metadata": {},
   "source": [
    "4. attribute space(属性空间), sample space(样本空间, 输入空间):\n",
    "    \n",
    "    某个sample的attributes张成的空间\n",
    "   "
   ]
  },
  {
   "cell_type": "markdown",
   "id": "d7417fee",
   "metadata": {},
   "source": [
    "5. dimensionality(维数):\n",
    "\n",
    "    sample 的attributes个数"
   ]
  },
  {
   "cell_type": "markdown",
   "id": "1d358149",
   "metadata": {},
   "source": [
    "6. hypothesis(假设), training set(训练集):\n",
    "\n",
    "    对于用来训练模型的数据称作training set, \n",
    "    对于sample set的train所得的关于数据的某种潜在的规律, 为逼近ground-truth(真相)叫假设"
   ]
  },
  {
   "cell_type": "markdown",
   "id": "57d560f7",
   "metadata": {},
   "source": [
    "7. example(样例):\n",
    "    \n",
    "    对于sample, 加入label(标记)表示结果的整体"
   ]
  },
  {
   "cell_type": "markdown",
   "id": "22574fb2",
   "metadata": {},
   "source": [
    "8. label space(标记空间, 输出空间):\n",
    "    \n",
    "    sample 与 label相对应形成的examples所张成的空间"
   ]
  },
  {
   "cell_type": "markdown",
   "id": "0f253d9c",
   "metadata": {},
   "source": [
    "9. classification(分类):\n",
    "\n",
    "    想要predict的值为离散的, 如0,1,2 称为classification"
   ]
  },
  {
   "cell_type": "markdown",
   "id": "16149108",
   "metadata": {},
   "source": [
    "10. regression(回归):\n",
    "\n",
    "    想要predict的值为连续值的"
   ]
  },
  {
   "cell_type": "markdown",
   "id": "8218d3a4",
   "metadata": {},
   "source": [
    "11. binary classification(二分类):\n",
    "\n",
    "    classification的值只有两个时称作binary classification"
   ]
  },
  {
   "cell_type": "markdown",
   "id": "d47650f2",
   "metadata": {},
   "source": [
    "12. positive class(正类), negative class(负类, 反类):\n",
    "\n",
    "    binary classification中所设计的两个类分别称作此"
   ]
  },
  {
   "cell_type": "markdown",
   "id": "51f8b879",
   "metadata": {},
   "source": [
    "13. testing(测试), testing sample(测试样本):\n",
    "\n",
    "    得到predict模型后进行的测试"
   ]
  },
  {
   "cell_type": "markdown",
   "id": "4c74422a",
   "metadata": {},
   "source": [
    "14. clustering(聚类):\n",
    "    \n",
    "    将training set 中的数据分为若干组, 每组称作一个cluster(簇), 在clustering learning中, 将这些自动形成的cluster自动寻找特性并产生相应的label"
   ]
  },
  {
   "cell_type": "markdown",
   "id": "0304821d",
   "metadata": {},
   "source": [
    "15. supervised learning(监督学习), unsupervised learning(无监督学习):\n",
    "\n",
    "    classification 与 regression是supervised的代表, clustering是unsupervised的代表"
   ]
  },
  {
   "cell_type": "markdown",
   "id": "65b93a79",
   "metadata": {},
   "source": [
    "16. generalization(泛化):\n",
    "\n",
    "    学得模型适用于新的sample的能力"
   ]
  },
  {
   "cell_type": "markdown",
   "id": "cee8cb3b",
   "metadata": {},
   "source": [
    "17. hypothesis space(假设空间), version space(版本空间):\n",
    "\n",
    "    潜在规律形成的hypothesis张成的空间叫hypothesis space, 从该空间中删除与正例不一致的, 或者与反例相同的hypothesis剩下的子空间称作version space"
   ]
  },
  {
   "cell_type": "markdown",
   "id": "96c42434",
   "metadata": {},
   "source": [
    "18. inductive bias(归纳偏好):\n",
    "\n",
    "    version space 中对于多个hypothesis均与label一致的情况, 需要采取何种hypothesis来确定某一个sample是否符合label, 称作inductive bias, 任何模型必须有bias"
   ]
  },
  {
   "cell_type": "markdown",
   "id": "4aec2ca4",
   "metadata": {},
   "source": [
    "19. No Free Lunch Theorem(NFT定理):\n",
    "\n",
    "    算法不论是什么样的, 期望值均相同, 必须针对相对应的具体问题选择具体的算法. \n",
    "    \n",
    "    有严格证明"
   ]
  },
  {
   "cell_type": "markdown",
   "id": "58106f04",
   "metadata": {},
   "source": [
    "20. learner(学习器):\n",
    "\n",
    "    模型, 学习算法在给定数据和参数空间的实例化"
   ]
  },
  {
   "cell_type": "markdown",
   "id": "8ea10408",
   "metadata": {},
   "source": [
    "---"
   ]
  },
  {
   "cell_type": "markdown",
   "id": "32dcf254",
   "metadata": {},
   "source": [
    "## supervised监督学习"
   ]
  },
  {
   "cell_type": "markdown",
   "id": "fd29c7dc",
   "metadata": {},
   "source": [
    "* regression回归问题\n",
    "\n",
    "用于预测随着attribute变化而连续变化的取值label问题"
   ]
  },
  {
   "cell_type": "markdown",
   "id": "128b3502",
   "metadata": {},
   "source": [
    "* classification分类问题\n",
    "\n",
    "用于预测随着attribute变化而变化的离散取值label问题"
   ]
  },
  {
   "cell_type": "markdown",
   "id": "5b97f2bf",
   "metadata": {},
   "source": [
    "---"
   ]
  },
  {
   "cell_type": "markdown",
   "id": "64d03c2f",
   "metadata": {},
   "source": [
    "## unsupervised无监督学习 - 找到数据的结构"
   ]
  },
  {
   "cell_type": "markdown",
   "id": "7d497a46",
   "metadata": {},
   "source": [
    "* clustering聚类学习\n",
    "\n",
    "将attribute相对集中分布的samples的label分为一个cluster簇, 从而将dataset分为不同label's cluster的set, 预测新加入的sample属于哪一个cluster"
   ]
  },
  {
   "cell_type": "markdown",
   "id": "5263669e",
   "metadata": {},
   "source": [
    "## 模型评估与选择"
   ]
  },
  {
   "cell_type": "markdown",
   "id": "79c24537",
   "metadata": {},
   "source": [
    "* overfitting(过拟合), underfitting(欠拟合):\n",
    "\n",
    "    overfitting是将模型训练太过, 将training set里面的独有特征学习当作所有sample均具有的attribute, 训练模型难以避免.\n",
    "    \n",
    "    underfitting是模型训练不够, 难以抓住sample的attribute"
   ]
  },
  {
   "cell_type": "markdown",
   "id": "0a2afe2f",
   "metadata": {},
   "source": [
    "* empirical error(经验误差), generalization error(泛化误差):\n",
    "    \n",
    "    在training set里预测产生的误差叫empirical error 在新的samples中产生的误差叫generalization error.\n",
    "        "
   ]
  },
  {
   "cell_type": "markdown",
   "id": "dea51a33",
   "metadata": {},
   "source": [
    " ###   模型评估常用方法"
   ]
  },
  {
   "cell_type": "markdown",
   "id": "bd3c2d09",
   "metadata": {},
   "source": [
    ">1. #### hold-out(留出法)"
   ]
  },
  {
   "cell_type": "markdown",
   "id": "1b90348b",
   "metadata": {},
   "source": [
    "  将data set  $D$ 划分为两个互斥的集合, 一个用作training set  $S$ 另一个用作testing set  $T$ 且$D = S\\cup T$ , $S\\cap T = \\emptyset$, 在$S$中训练, 在$T$中测试, 用于评估generalization error. 将大约 $2/3\\sim 4/5$ 的data set用做训练, 剩余用做评估. 而training set最少要留出30个sample\n",
    "\n",
    "  另外为确保不受选取set随机性的影响, 要进行多次不同划分进行训练"
   ]
  },
  {
   "cell_type": "markdown",
   "id": "222b24a0",
   "metadata": {},
   "source": [
    ">2. #### cross validation(交叉验证法)"
   ]
  },
  {
   "cell_type": "markdown",
   "id": "1ac91f61",
   "metadata": {},
   "source": [
    "  将 $D$ 划分为 $k$ 个大小相似的互斥子集, 即$D = D_1\\cup D_2\\cup \\cdots \\cup D_k$ ,$D_i\\cap D_j = \\emptyset (i \\neq j)$. 每个子集均是从data set里面均匀得到(分层抽样), 使用 $k-1$ 个子集进行训练, 1个子集进行评估. 并轮流使用不同的 $D_k$ 作为评估子集, 一共进行$k$轮训练.\n",
    "\n",
    "* $ Leave-One-Out(LOO,留一法)$:\n",
    "\n",
    "任意训练子集$D_i$只含有一个sample, 即训练时训练 总数-1 的sample, 留下一个单独的sample用于评估, 并轮次进行 总数 次."
   ]
  },
  {
   "cell_type": "markdown",
   "id": "2a15340d",
   "metadata": {},
   "source": [
    ">3. #### bootstrapping(自助法)"
   ]
  },
  {
   "cell_type": "markdown",
   "id": "1d93f34d",
   "metadata": {},
   "source": [
    "* 适用于data set 比较小的情况"
   ]
  },
  {
   "cell_type": "markdown",
   "id": "63305cb1",
   "metadata": {},
   "source": [
    "  从给定的$m$个sample的$D$中每次随机复制一个sample到$D^{\\prime}$中, 重复执行$m$次. 其中, $D^{\\prime}$中的sample可能会出现多次, 也可能完全不出现, 完全不出现的概率为$${\\lim_{m\\to \\infty}}(1-\\frac {1}{m})^m = \\frac{1}{e}\\approx 0.368$$ 即有$36.8 \\% $的数据完全不会出现在$D^{\\prime}$中, 故我们可以将$D^{\\prime}$作为training set 而将$D-D^{\\prime}$作为评估用. "
   ]
  },
  {
   "cell_type": "markdown",
   "id": "eb9f4615",
   "metadata": {},
   "source": [
    "### 查全率,查准率,F1"
   ]
  },
  {
   "cell_type": "markdown",
   "id": "b4707ba8",
   "metadata": {},
   "source": [
    " * binary classification中真实情况与预测情况的情形\n",
    "\n",
    ">|真实\\预测|正例|反例|\n",
    "|---|---|---|\n",
    "|正例|TP(真正例)|FN(假反例)|\n",
    "|反例|FP(假正例)|TN(真反例)|\n",
    "\n",
    " >以预测结果作为第二个PN选项, 预测为真就是P(positive), 假为N(negative), 再与真实情况比较, 如果与真实情况的真假相对应, 则为T(true), 相反为F(false)"
   ]
  },
  {
   "cell_type": "markdown",
   "id": "b98a87e2",
   "metadata": {},
   "source": [
    "* 查全率, 查准率\n",
    "\n",
    "> 查准率(precision)定义为 $P = \\frac{TP}{TP+FP}$ 所有预测正例里面的真情况\n",
    "\n",
    "> 查全率(recall)定义为$R = \\frac{TP}{TP+FN}$ 所有真实正例里面的预测为正情况\n",
    "\n",
    "> 两者是相互矛盾的构象, 一个高另一个就低, 可以使用以recall为横轴, precision为纵轴的$P-R$图像. 以面积作为衡量标准.\n",
    "\n",
    ">* $Break-Event Point(BEP,平衡点)$\n",
    "\n",
    ">>面积难以计算时, 采用一条$y = x$直线分割图像, 此时直线意义为$precision = recall$, 以此直线与图像相交的点大小作为衡量标准"
   ]
  },
  {
   "cell_type": "markdown",
   "id": "90c7c9a0",
   "metadata": {},
   "source": [
    "* $F1$"
   ]
  },
  {
   "cell_type": "markdown",
   "id": "deee8e88",
   "metadata": {},
   "source": [
    ">$F1 = \\frac{2\\times P \\times R}{P + R} = \\frac{2\\times TP}{sample总数+TP-TN}$\n",
    "\n",
    ">$F1$是基于调和平均的, 原始定义为$\\frac{1}{F1} = \\frac{1}{2} \\cdot (\\frac{1}{P}+\\frac{1}{R})$\n",
    "\n",
    ">$F_{\\beta}$是$F1$加权调和平均, $\\frac{1}{F_{\\beta}} = \\frac{1}{2} \\cdot (\\frac{1}{P}+\\frac{\\beta^2}{R})$, 反解得到$$F_{\\beta} = \\frac{(1+\\beta^2)\\times P \\times R}{(\\beta^2\\times P) + R}$$实际使用中, $\\beta >1$时recall更重要, $\\beta  = 1$时退化为标准$F1$, $\\beta <1$时precision更重要\n",
    "\n",
    ">* $n$个binary classification混淆矩阵判断法\n",
    ">>* macro-$F1$(宏$F1$)\n",
    ">>>相当于将所有子binary classification的precision, recall 求平均得到 macro-$P$和macro-$R$后, 再计算macro-$F1$\n",
    ">>* micro-$F1$(微$F1$)\n",
    ">>>相当于先求TP,TN,FP,FN的平均, 再计算得到micro-$P$与micro-$R$, 然后计算micro-$F1$"
   ]
  },
  {
   "cell_type": "markdown",
   "id": "318f8457",
   "metadata": {},
   "source": [
    "### ROC & AUC"
   ]
  },
  {
   "cell_type": "markdown",
   "id": "fd3a3bf3",
   "metadata": {},
   "source": [
    "* ROC(Receiver Operating Characteristic, 受试者工作特征)\n",
    ">根据学习器预测结果对样例进行排序, 按此计算True Positive Rate(真正例率)$TPR = \\frac{TP}{TP+FN}$(真实情况正例中,预测为真情况), 和False Positive Rate(假正例率)$FPR = \\frac{FP}{TN+FP}$(真实情况反例情况下, 预测为真情况). 以$TPR$为纵轴, $FPR$为横轴.得到ROC图像"
   ]
  },
  {
   "cell_type": "markdown",
   "id": "096bf5a7",
   "metadata": {},
   "source": [
    "* AUC(Area Under ROC Curve)\n",
    ">ROC曲线图中在ROC曲线以下部分的面积."
   ]
  },
  {
   "cell_type": "markdown",
   "id": "0bb2da29",
   "metadata": {},
   "source": [
    "### 代价敏感错误率与代价曲线"
   ]
  },
  {
   "cell_type": "markdown",
   "id": "eb7868f8",
   "metadata": {},
   "source": [
    "### 比较检验"
   ]
  },
  {
   "cell_type": "markdown",
   "id": "73358fb8",
   "metadata": {},
   "source": [
    "### 假设检验"
   ]
  },
  {
   "cell_type": "markdown",
   "id": "2741928f",
   "metadata": {},
   "source": [
    "### 交叉验证t检验"
   ]
  },
  {
   "cell_type": "markdown",
   "id": "1873e22b",
   "metadata": {},
   "source": [
    "### McNemar检验\n"
   ]
  },
  {
   "cell_type": "markdown",
   "id": "2c384067",
   "metadata": {},
   "source": [
    "### Friedman 与 Nemenyi后续检验"
   ]
  },
  {
   "cell_type": "markdown",
   "id": "25a5e2a4",
   "metadata": {},
   "source": [
    "### 偏差与方差"
   ]
  },
  {
   "cell_type": "markdown",
   "id": "9c738bfc",
   "metadata": {},
   "source": [
    "---"
   ]
  },
  {
   "cell_type": "markdown",
   "id": "03abe202",
   "metadata": {},
   "source": [
    "## 线性模型"
   ]
  },
  {
   "cell_type": "markdown",
   "id": "9f8e30cd",
   "metadata": {},
   "source": [
    "将$d$个attributes描述的实例$\\textbf{x} = (x_1,x_2,\\cdots ,x_d)$通过一个对attributes的线性组合来预测的函数$$f(\\textbf{x}) =w_1x_1+w_2x_2+\\cdots +w_dx_d+b $$ 通过确定$\\textbf{W} = (w_1,w_2,\\cdots ,w_d)$与$b$即可确定模型"
   ]
  },
  {
   "cell_type": "markdown",
   "id": "310c06dc",
   "metadata": {},
   "source": [
    "### 线性回归"
   ]
  },
  {
   "cell_type": "markdown",
   "id": "227de663",
   "metadata": {},
   "source": [
    "使用均方误差衡量损失, 其中,$y$表示真实函数值, $X$表示数据集张量,其中$x_{ij}$中, $i$表示sample的序列(行数为sample个数),$j$为attribute序列(列数为attributes个数),$X$的最后一列全为1以便同$b$对应, 将$w$和$b$合并为同一组向量$\\hat w = (\\textbf{w},b)$,$X\\hat w$表示模型预测结果 则所需的参数就是使得均方误差最小的$\\hat w$, 均方误差:$$S = (y - X\\hat w)^T(y - X\\hat w)$$"
   ]
  },
  {
   "cell_type": "markdown",
   "id": "4aa842c7",
   "metadata": {},
   "source": [
    "要求最值, 则可对均方误差求梯度gradient并令其等于零, 即$$\\nabla S(\\hat w) = 2X^T(X\\hat w - y) == 0$$"
   ]
  },
  {
   "cell_type": "markdown",
   "id": "2d71c4c5",
   "metadata": {},
   "source": [
    "解之, 即得$$\\hat w^* = (X^TX)^{-1}X^Ty$$"
   ]
  },
  {
   "cell_type": "markdown",
   "id": "d752ff66",
   "metadata": {},
   "source": [
    "设预测时属性向量为$x$, 则最终预测结果为$$f(x) = x^T\\hat w^* = x^T(X^TX)^{-1}X^Ty $$"
   ]
  },
  {
   "cell_type": "markdown",
   "id": "8a0b9c30",
   "metadata": {},
   "source": [
    "而现实中, $X^TX$可能非满秩, 即样本的attributes数量(列数)远多于样本数(行数), 故其解空间非零维, 则此时, 选择哪一个解向量作为输出, 取决于算法的归纳偏好, 常见的做法是引入regularization(正则化)项"
   ]
  },
  {
   "cell_type": "code",
   "execution_count": 5,
   "id": "1ecb05cb",
   "metadata": {},
   "outputs": [
    {
     "name": "stdout",
     "output_type": "stream",
     "text": [
      "[[ 4.40089155  3.03708158  1.25926826 -3.20078109]]\n"
     ]
    }
   ],
   "source": [
    "import numpy as np\n",
    "\n",
    "X = np.random.random(size=(4,3)) #创建input数组\n",
    "X = np.hstack((X,np.array([[1],[1],[1],[1]]))) #扩充X使之兼容(w,b)\n",
    "w = np.random.random(size=4) #创建w = (w,b)\n",
    "y = np.array([1,2,3,4]) #指定y\n",
    "\n",
    "# s = ((y-X.dot(w))**2).sum() #计算均方误差\n",
    "\n",
    "X = np.matrix(X) # 将X转化为矩阵形式, 便于求inv以及转置\n",
    "\n",
    "w_sol = ((X.T.dot(X)).I).dot(X.T).dot(y) #梯度求解, 得到均方误差损失下最佳的weight(或者使用@代替.dot)\n",
    "print (w_sol)\n"
   ]
  },
  {
   "cell_type": "markdown",
   "id": "c358c146",
   "metadata": {},
   "source": [
    "---"
   ]
  },
  {
   "cell_type": "markdown",
   "id": "3e89f22c",
   "metadata": {},
   "source": [
    "## 决策树"
   ]
  },
  {
   "cell_type": "markdown",
   "id": "12ace043",
   "metadata": {},
   "source": [
    "decision tree是一类常见的机器学习算法\n",
    "\n",
    "对数据集属性集$x$和label集$y$, 通过纯度算法, 从对于纯度贡献最大的属性开始决策, 最终得到一个决策树"
   ]
  },
  {
   "cell_type": "markdown",
   "id": "ac458c90",
   "metadata": {},
   "source": [
    "![decision tree](decision_tree.jpg)"
   ]
  },
  {
   "cell_type": "code",
   "execution_count": null,
   "id": "a2efc62b",
   "metadata": {},
   "outputs": [],
   "source": [
    "# -*- coding: UTF-8 -*-\n",
    "from math import log\n",
    "import operator\n",
    " \n",
    " \n",
    " \n",
    "\"\"\"\n",
    "函数说明:创建测试数据集\n",
    "\"\"\"\n",
    "def createDataSet():\n",
    "    dataSet = [[0, 0, 0, 0, 'no'],         #数据集\n",
    "               [0, 0, 0, 1, 'no'],\n",
    "               [0, 1, 0, 1, 'yes'],\n",
    "               [0, 1, 1, 0, 'yes'],\n",
    "               [0, 0, 0, 0, 'no'],\n",
    "               [1, 0, 0, 0, 'no'],\n",
    "               [1, 0, 0, 1, 'no'],\n",
    "               [1, 1, 1, 1, 'yes'],\n",
    "               [1, 0, 1, 2, 'yes'],\n",
    "               [1, 0, 1, 2, 'yes'],\n",
    "               [2, 0, 1, 2, 'yes'],\n",
    "               [2, 0, 1, 1, 'yes'],\n",
    "               [2, 1, 0, 1, 'yes'],\n",
    "               [2, 1, 0, 2, 'yes'],\n",
    "               [2, 0, 0, 0, 'no']]\n",
    "    labels = ['年龄', '有工作', '有自己的房子', '信贷情况']        #分类属性\n",
    "    return dataSet, labels                           #返回数据集和分类属性\n",
    " \n",
    " \n",
    "\"\"\"\n",
    "函数说明:计算给定数据集的经验熵(香农熵)\n",
    "Parameters:\n",
    "    dataSet - 数据集\n",
    "Returns:\n",
    "    shannonEnt - 经验熵(香农熵)\n",
    "\"\"\"\n",
    "def calcShannonEnt(dataSet):\n",
    "    numEntires = len(dataSet)                        #返回数据集的行数\n",
    "    labelCounts = {}                                 #保存每个标签(Label)出现次数的字典\n",
    "    for featVec in dataSet:                          #对每组特征向量进行统计\n",
    "        currentLabel = featVec[-1]                   #提取标签(Label)信息\n",
    "        if currentLabel not in labelCounts.keys():   #如果标签(Label)没有放入统计次数的字典,添加进去\n",
    "            labelCounts[currentLabel] = 0\n",
    "        labelCounts[currentLabel] += 1               #Label计数\n",
    "    shannonEnt = 0.0                                 #经验熵(香农熵)\n",
    "    for key in labelCounts:                          #计算香农熵\n",
    "        prob = float(labelCounts[key]) / numEntires  #选择该标签(Label)的概率\n",
    "        shannonEnt -= prob * log(prob, 2)            #利用公式计算\n",
    "    return shannonEnt                                #返回经验熵(香农熵)\n",
    " \n",
    " \n",
    "\"\"\"\n",
    "函数说明:按照给定特征划分数据集\n",
    "Parameters:\n",
    "    dataSet - 待划分的数据集\n",
    "    axis - 划分数据集的特征\n",
    "    value - 需要返回的特征的值\n",
    "\"\"\"\n",
    "def splitDataSet(dataSet, axis, value):\n",
    "    retDataSet = []                                     #创建返回的数据集列表\n",
    "    for featVec in dataSet:                             #遍历数据集\n",
    "        if featVec[axis] == value:\n",
    "            reducedFeatVec = featVec[:axis]             #去掉axis特征\n",
    "            reducedFeatVec.extend(featVec[axis+1:])     #将符合条件的添加到返回的数据集\n",
    "            retDataSet.append(reducedFeatVec)\n",
    "    return retDataSet                                   #返回划分后的数据集\n",
    " \n",
    " \n",
    "\"\"\"\n",
    "函数说明:选择最优特征\n",
    "Parameters:\n",
    "    dataSet - 数据集\n",
    "Returns:\n",
    "    bestFeature - 信息增益最大的(最优)特征的索引值\n",
    "\"\"\"\n",
    "def chooseBestFeatureToSplit(dataSet):\n",
    "    numFeatures = len(dataSet[0]) - 1                     #特征数量\n",
    "    baseEntropy = calcShannonEnt(dataSet)                 #计算数据集的香农熵\n",
    "    bestInfoGain = 0.0                                    #信息增益\n",
    "    bestFeature = -1                                      #最优特征的索引值\n",
    "    for i in range(numFeatures):                          #遍历所有特征\n",
    "        #获取dataSet的第i个所有特征\n",
    "        featList = [example[i] for example in dataSet]\n",
    "        uniqueVals = set(featList)                         #创建set集合{},元素不可重复\n",
    "        newEntropy = 0.0                                   #经验条件熵\n",
    "        for value in uniqueVals:                           #计算信息增益\n",
    "            subDataSet = splitDataSet(dataSet, i, value)           #subDataSet划分后的子集\n",
    "            prob = len(subDataSet) / float(len(dataSet))           #计算子集的概率\n",
    "            newEntropy += prob * calcShannonEnt(subDataSet)        #根据公式计算经验条件熵\n",
    "        infoGain = baseEntropy - newEntropy                        #信息增益\n",
    "        print(\"第%d个特征的增益为%.3f\" % (i, infoGain))             #打印每个特征的信息增益\n",
    "        if (infoGain > bestInfoGain):                              #计算信息增益\n",
    "            bestInfoGain = infoGain                                #更新信息增益，找到最大的信息增益\n",
    "            bestFeature = i                                        #记录信息增益最大的特征的索引值\n",
    "    return bestFeature                                             #返回信息增益最大的特征的索引值\n",
    " \n",
    "\n",
    "\"\"\"\n",
    "函数说明:统计classList中出现此处最多的元素(类标签)\n",
    "Parameters:\n",
    "    classList - 类标签列表\n",
    "Returns:\n",
    "    sortedClassCount[0][0] - 出现此处最多的元素(类标签)\n",
    "\"\"\"\n",
    "def majorityCnt(classList):\n",
    "    classCount = {}\n",
    "    for vote in classList:                                        #统计classList中每个元素出现的次数\n",
    "        if vote not in classCount.keys():\n",
    "            classCount[vote] = 0\n",
    "        classCount[vote] += 1\n",
    "    sortedClassCount = sorted(classCount.items(), key = operator.itemgetter(1), reverse = True)        #根据字典的值降序排序\n",
    "    return sortedClassCount[0][0]                                #返回classList中出现次数最多的元素\n",
    " \n",
    " \n",
    "\"\"\"\n",
    "函数说明:递归构建决策树\n",
    "Parameters:\n",
    "    dataSet - 训练数据集\n",
    "    labels - 分类属性标签\n",
    "    featLabels - 存储选择的最优特征标签\n",
    "Returns:\n",
    "    myTree - 决策树\n",
    "\"\"\"\n",
    "def createTree(dataSet, labels, featLabels):\n",
    "    classList = [example[-1] for example in dataSet]               #取分类标签(是否放贷:yes or no)\n",
    "    if classList.count(classList[0]) == len(classList):            #如果类别完全相同则停止继续划分\n",
    "        return classList[0]\n",
    "    if len(dataSet[0]) == 1:                                       #遍历完所有特征时返回出现次数最多的类标签\n",
    "        return majorityCnt(classList)\n",
    "    bestFeat = chooseBestFeatureToSplit(dataSet)                   #选择最优特征\n",
    "    bestFeatLabel = labels[bestFeat]                               #最优特征的标签\n",
    "    featLabels.append(bestFeatLabel)\n",
    "    myTree = {bestFeatLabel:{}}                                    #根据最优特征的标签生成树\n",
    "    del(labels[bestFeat])                                          #删除已经使用特征标签\n",
    "    featValues = [example[bestFeat] for example in dataSet]        #得到训练集中所有最优特征的属性值\n",
    "    uniqueVals = set(featValues)                                   #去掉重复的属性值\n",
    "    for value in uniqueVals:\n",
    "        subLabels=labels[:]\n",
    "        #递归调用函数createTree(),遍历特征，创建决策树。\n",
    "        myTree[bestFeatLabel][value] = createTree(splitDataSet(dataSet, bestFeat, value), subLabels, featLabels)\n",
    "    return myTree\n",
    " \n",
    " \n",
    "\"\"\"\n",
    "函数说明:使用决策树执行分类\n",
    "Parameters:\n",
    "    inputTree - 已经生成的决策树\n",
    "    featLabels - 存储选择的最优特征标签\n",
    "    testVec - 测试数据列表，顺序对应最优特征标签\n",
    "Returns:\n",
    "    classLabel - 分类结果\n",
    "\"\"\"\n",
    "def classify(inputTree, featLabels, testVec):\n",
    "    firstStr = next(iter(inputTree))             #获取决策树结点\n",
    "    secondDict = inputTree[firstStr]             #下一个字典\n",
    "    featIndex = featLabels.index(firstStr)\n",
    "    for key in secondDict.keys():\n",
    "        if testVec[featIndex] == key:\n",
    "            if type(secondDict[key]).__name__ == 'dict':\n",
    "                classLabel = classify(secondDict[key], featLabels, testVec)\n",
    "            else:\n",
    "                classLabel = secondDict[key]\n",
    "    return classLabel\n",
    " \n",
    " \n",
    "if __name__ == '__main__':\n",
    "    dataSet, labels = createDataSet()\n",
    "    featLabels = []\n",
    "    myTree = createTree(dataSet, labels, featLabels)\n",
    "    print(myTree)\n",
    "    testVec = [0, 1]     # 测试数据\n",
    "    result = classify(myTree, featLabels, testVec)\n",
    "    if result == 'yes':\n",
    "        print('放贷')\n",
    "    if result == 'no':\n",
    "        print('不放贷')"
   ]
  },
  {
   "cell_type": "markdown",
   "id": "a3fb5092",
   "metadata": {},
   "source": [
    "此算法实质上是:\n",
    "\n",
    "计算所有属性的信息增益,找出最大的信息增益属性\n",
    "\n",
    "对于此属性的所有属性取值:\n",
    "\n",
    "{如果 在此属性取值下的数据集为空, 那么划分前的数据集中最多的label就是叶节点取值\n",
    "\n",
    "如果 不为空, 那么 在划分后的数据集中去掉这个属性, 在剩下的属性中选择信息增益最大的重复此过程}\n",
    "\n",
    "\n",
    ">---\n",
    "\n",
    "下列为进入递归后 递归停止情况:\n",
    "\n",
    "如果 在递归过程中, 存在一个属性取值, 在此属性取值下的数据集label均属于同一类, 则此叶节点取值就是这个label\n",
    "\n",
    "\n",
    "如果 递归过程中, 没有其他属性, 或者 在这些属性上, 所有样本取值均相同, 则在现在的数据集中label最多的那一类就是 叶节点取值"
   ]
  },
  {
   "cell_type": "markdown",
   "id": "1c51890c",
   "metadata": {},
   "source": [
    "---"
   ]
  },
  {
   "cell_type": "markdown",
   "id": "4c406d8b",
   "metadata": {},
   "source": [
    "## Neural Networks"
   ]
  },
  {
   "cell_type": "markdown",
   "id": "8d5489e6",
   "metadata": {},
   "source": [
    "#### M-P神经元模型"
   ]
  },
  {
   "cell_type": "markdown",
   "id": "ceef0859",
   "metadata": {},
   "source": [
    "类似于一个函数, 接受很多的inputs 每一个input对应着一个权重weight, 这个神经元实质上是:\n",
    "\n",
    "一个激活函数$$f(\\sum_{i=1}^n w_ix_i - \\theta)$$ 他的自变量是$\\vec{w^T}\\vec x$与bias偏置 $\\theta$的线性组合, 得到一个输出传送给下一层神经元, 作为下一层神经元输入$\\vec x$其中的一个分量"
   ]
  },
  {
   "cell_type": "markdown",
   "id": "d2e7a411",
   "metadata": {},
   "source": [
    "#### 激活函数"
   ]
  },
  {
   "cell_type": "markdown",
   "id": "442f04a6",
   "metadata": {},
   "source": [
    "* Sigmoid $$f(x) = \\frac {1}{1 + e^{-x}}$$具有极好的求导性质, $y^{\\prime} = y(1-y)$"
   ]
  },
  {
   "cell_type": "markdown",
   "id": "45058ccf",
   "metadata": {},
   "source": [
    "* ReLU $$$$\n",
    "分段函数, 在阈值$x_0$左边的值恒取值为零, 在右边的值输出原值, 一般阈值为0"
   ]
  },
  {
   "cell_type": "markdown",
   "id": "0232c1fe",
   "metadata": {},
   "source": [
    "* $and\\ others$"
   ]
  },
  {
   "cell_type": "markdown",
   "id": "148cc9a3",
   "metadata": {},
   "source": [
    "#### Perceptron感知机"
   ]
  },
  {
   "cell_type": "markdown",
   "id": "b5a51a72",
   "metadata": {},
   "source": [
    "由两层神经元组成, 一层为输入层, 一层为输出层, 输入层的neurons(神经元们)通过赋予一定权重的输出们$x_i$交给下一层神经元处理, 下一层神经元在此基础上通过激活函数产生自己的输出$y$, 下一层neuron在处理数据的时候还会有bias"
   ]
  },
  {
   "cell_type": "markdown",
   "id": "d3806c7d",
   "metadata": {},
   "source": [
    "* 感知机权重的调整$$$$\n",
    "存在一个learning rate学习率$\\eta $, 由此来更新每个权重$w_i$ $$更新后的权重w_i = 原权重w_i + \\Delta w_i$$ $$\\Delta w_i = \\eta (y - \\hat y)x_i$$其中, $y$是label, $\\hat y$是感知机预测的结果"
   ]
  },
  {
   "cell_type": "markdown",
   "id": "5f79f8a9",
   "metadata": {},
   "source": [
    "* Perceptron的局限$$$$\n",
    "只有两层的感知机没有办法处理非线性问题, 只能够使用一个超平面分割正例反例, 对于非线性划分没有办法. 可通过多层perceptron的组合形成hidden layer隐藏层来产生非线性分割"
   ]
  },
  {
   "cell_type": "markdown",
   "id": "cf8c5b7c",
   "metadata": {},
   "source": [
    "#### error BackPropagation 误差反向传播算法(BP算法)"
   ]
  },
  {
   "cell_type": "markdown",
   "id": "65612a92",
   "metadata": {},
   "source": [
    "BP算法基于gradient descent梯度下降策略, 对于以权重为自变量的损失函数$E = Loss(\\vec w)$, 要想找到Loss函数的最小值, 根据多元微分学, 梯度为零的驻点, 有可能是最小值点. 而沿着任意一点的梯度的反方向就是Loss下降最快的方向, 由此, 权重更新中的$$\\Delta w_i = -\\eta \\frac{\\partial E}{\\partial w_i}$$"
   ]
  },
  {
   "cell_type": "markdown",
   "id": "89026e27",
   "metadata": {},
   "source": [
    "Loss函数对权重$w$的梯度, 可由神经元输出$\\hat y$, 对此神经元的输入$\\beta$组成链导法则:\n",
    "$$\\frac{\\partial E}{\\partial w} = \\frac{\\partial E}{\\partial {\\hat y}}\\frac {\\partial {\\hat y}}{\\partial \\beta}\\frac {\\partial \\beta}{\\partial w}$$其中,设前一层神经元的输出为$b$,则$$\\frac {\\partial \\beta}{\\partial w} = b$$ $\\beta = \\vec w^T\\vec b$, 可由此链导法则的到精确的前一层神经元的每一个输出, 以用来调节这一层到更前一层的权重参数"
   ]
  },
  {
   "cell_type": "code",
   "execution_count": 2,
   "id": "a399e088",
   "metadata": {},
   "outputs": [
    {
     "name": "stdout",
     "output_type": "stream",
     "text": [
      "-----------调参前-----------\n",
      "参数: \n",
      "[[0.2, 0.6], [0.1, 0.2]]\n",
      "[0.2, 0.8]\n",
      "损失: \n",
      "[0.00970533]\n"
     ]
    },
    {
     "data": {
      "image/png": "[encoded data removed]",
      "text/plain": [
       "<Figure size 432x288 with 1 Axes>"
      ]
     },
     "metadata": {
      "needs_background": "light"
     },
     "output_type": "display_data"
    },
    {
     "name": "stdout",
     "output_type": "stream",
     "text": [
      "-----------调参后-----------\n",
      "历经 4021 轮后:\n",
      "参数: \n",
      "[[0.16649323 0.57185484]\n",
      " [0.00672452 0.12164957]]\n",
      "[-0.21758047  0.44922848]\n",
      "损失: \n",
      "[0.00029984]\n"
     ]
    }
   ],
   "source": [
    "import matplotlib.pyplot as plt\n",
    "import numpy as np\n",
    "\n",
    "class Network():\n",
    "\n",
    "    def __init__(self,input,w1,w2,output,learning_rate):\n",
    "        self.w1 = np.array(w1)\n",
    "        self.w2 = np.array(w2)\n",
    "        self.input = np.array(input) \n",
    "        self.output = np.array(output)\n",
    "        self.lr = learning_rate\n",
    "    \n",
    "    def neuron(self,input): #指定神经元的激活函数\n",
    "        out = 1/(1 + np.exp(-1 * input))\n",
    "        return out\n",
    "\n",
    "    def forward(self): #前向算法, 只有三层, 输入-隐含-输出\n",
    "        to_hidden = self.w1 @ self.input\n",
    "        out_hidden = Network.neuron(self,to_hidden)\n",
    "        to_output = self.w2 @ out_hidden\n",
    "        output = Network.neuron(self,to_output)\n",
    "        return output\n",
    "\n",
    "    def delta_w2(self): #调参使用的从输出层到隐含层的\n",
    "        hat_y = Network.forward(self)\n",
    "        to_hidden = self.w1 @ self.input\n",
    "        beta = Network.neuron(self,to_hidden)\n",
    "        partial_E_w2 = (hat_y - self.output) * (1 - hat_y) * hat_y * beta\n",
    "        deltaw2 = -1 * self.lr * partial_E_w2\n",
    "        deltaw2 = np.reshape(deltaw2,2)\n",
    "        return deltaw2\n",
    "\n",
    "    def delta_w1(self): #调参使用的从隐含层到输入层的\n",
    "        partial_E_w2 = Network.delta_w2(self) * -1/self.lr\n",
    "        to_hidden = self.w1 @ self.input\n",
    "        beta = Network.neuron(self,to_hidden)\n",
    "        deltaw1 = -1 * self.lr * partial_E_w2 * beta * (1 - beta) * self.input\n",
    "        return deltaw1\n",
    "\n",
    "    def backward(self):#反向传播调参\n",
    "        self.w2 += Network.delta_w2(self)\n",
    "        self.w1 += Network.delta_w1(self)\n",
    "    \n",
    "    def loss(self):\n",
    "        hat_y = Network.forward(self)\n",
    "        loss = 0.5 * (hat_y - self.output)**2\n",
    "        return loss\n",
    "\n",
    "input = [[0.35],[0.9]]\n",
    "output = 0.5\n",
    "\n",
    "w1_o = [[0.2,0.6],[0.1,0.2]]\n",
    "w2_o = [0.2,0.8]\n",
    "\n",
    "net = Network(input,w1_o,w2_o,output,learning_rate=0.01)\n",
    "print('{:-^25}'.format('调参前'))\n",
    "print('参数: ')\n",
    "print(w1_o)\n",
    "print(w2_o)\n",
    "print('损失: ')\n",
    "print(net.loss())\n",
    "y = []\n",
    "while 1 :\n",
    "    net.backward()\n",
    "    y.append(net.loss())\n",
    "    if net.loss() <= 0.0003:\n",
    "        break\n",
    "x = range(len(y))\n",
    "plt.xlabel('times')\n",
    "plt.ylabel('loss')\n",
    "plt.title('loss-times')\n",
    "plt.plot(x,y)\n",
    "plt.show()\n",
    "print('{:-^25}'.format('调参后'))\n",
    "print(f'历经 {len(y)} 轮后:')\n",
    "print('参数: ')\n",
    "print(net.w1)\n",
    "print(net.w2)\n",
    "print('损失: ')\n",
    "print(net.loss())"
   ]
  },
  {
   "cell_type": "markdown",
   "id": "b6d5e779",
   "metadata": {},
   "source": [
    "---"
   ]
  },
  {
   "cell_type": "markdown",
   "id": "3e18d286",
   "metadata": {},
   "source": [
    "## Support Vector Machine支持向量机(SVM)"
   ]
  },
  {
   "cell_type": "markdown",
   "id": "33141afe",
   "metadata": {},
   "source": [
    "给定一个样本集, 其中属性维度有$m$维, 共有$d$个样本. label为$y$, 则此数据集可表示为$$D = \\{(\\vec x_1, y_1),(\\vec x_2,y_2),\\cdots (\\vec x_d, y_d)\\}$$其中, $\\vec x_i = [x_1,x_2,x_3,\\cdots ,x_m]$, 则通过机器学习, 有可能寻找到一个$m$维超平面(取决于数据集是否线性可分)$$\\vec w^T\\vec x + b = 0$$将数据集根据label的不同从而分到超平面的两侧, 其中$\\vec w = [w_1,w_2,\\cdots ,w_m]$为超平面的法向量, $b$为超平面距原点的距离."
   ]
  },
  {
   "cell_type": "markdown",
   "id": "0bc465bf",
   "metadata": {},
   "source": [
    "对于一个二维的划分而言:"
   ]
  },
  {
   "cell_type": "markdown",
   "id": "ca27a8c6",
   "metadata": {},
   "source": [
    "![2D_SVM](2d_SVM.jpg)"
   ]
  },
  {
   "cell_type": "markdown",
   "id": "e0e783e4",
   "metadata": {},
   "source": [
    "$H$即为超平面, 样本空间内任意样本到超平面的距离为(类比于空间点到平面距离)$$r = \\frac{|\\vec w^T\\vec x + b|}{||\\vec w||}$$"
   ]
  },
  {
   "cell_type": "markdown",
   "id": "98be6adc",
   "metadata": {},
   "source": [
    "support vector所在平面方程为$\\vec w^T \\vec x + b = \\pm c$, 若将决策超平面式子: $\\vec w^T \\vec x + b = 0$和support vector所在的边界超平面方程同时左右同时除以$c$, 则令$$\\frac {\\vec w}{c} = \\vec w^{\\prime}$$$$\\frac {b}{c} = b^{\\prime}$$可得到($y$为正负类取值)"
   ]
  },
  {
   "cell_type": "markdown",
   "id": "71e494ef",
   "metadata": {},
   "source": [
    "$$\\left\\{\n",
    "\\begin{aligned}\n",
    "\\vec w^{\\prime T}\\vec x + b^{\\prime} \\ge +1,& \\quad y = +1 \\\\\n",
    "\\vec w^{\\prime T}\\vec x + b^{\\prime} \\le -1,& \\quad y = -1 \n",
    "\\end{aligned}\n",
    "\\right.\n",
    "$$"
   ]
  },
  {
   "cell_type": "markdown",
   "id": "d62de38d",
   "metadata": {},
   "source": [
    "而在此替换后的结果上, 若将$\\vec w^{\\prime}$和$b^{\\prime}$替换为$w$, $b$仍不影响运算, 故将之全部替换"
   ]
  },
  {
   "cell_type": "markdown",
   "id": "416fa831",
   "metadata": {},
   "source": [
    "而在此边界上的样本, 使得上式的等号成立, 故将这些样本点分别称作Support Vector(支持向量)"
   ]
  },
  {
   "cell_type": "markdown",
   "id": "f846277f",
   "metadata": {},
   "source": [
    "两个不同的label的support vector到超平面距离之和为(因为其满足超平面上的点到这个扩张后的超平面距离中的$\\vec w^Tx + b = 0$): $$\\gamma = \\frac{2}{||\\vec w||}$$它被称作margin(间隔)"
   ]
  },
  {
   "cell_type": "markdown",
   "id": "d21d2198",
   "metadata": {},
   "source": [
    "如果能够使得$\\gamma$最大, 那么超平面划分后的模型对于噪音的扰动抗干扰能力最强. 故欲找到具有maximum margin(最大间隔)的划分超平面, 则需要找到最小的$||\\vec w||$"
   ]
  },
  {
   "cell_type": "markdown",
   "id": "e9c55839",
   "metadata": {},
   "source": [
    "故Support Vector Machine的基本型为: \n",
    "\n",
    "求解这样的一个$\\vec w$满足\n",
    "$$\\underset{\\vec w,b}{\\min} \\frac{1}{2}||\\vec w||^2$$\n",
    "$$s.t.\\quad y_i(\\vec w^T\\vec x_i +b) \\ge 1$$ $subject\\ to$后的式子表示label与超平面同号且相乘大于一, 满足前大括号式子, 其中, $\\vec x_i$, $y_i$为所有样本属性取值和label取值均有第二个式子成立"
   ]
  },
  {
   "cell_type": "markdown",
   "id": "564adb86",
   "metadata": {},
   "source": [
    "可以由此, 得到Lagrangrian函数为:$$L(\\vec w,b,\\lambda) = \\frac{1}{2}||\\vec w||^2 - \\sum_{i=1}^{d}\\lambda _i[y_i(\\vec w^T\\vec x_i+b)-1]$$"
   ]
  },
  {
   "cell_type": "markdown",
   "id": "e47cfab0",
   "metadata": {},
   "source": [
    "这个函数的KKT条件为:\n",
    "$$\n",
    "\\left\\{\n",
    "\\begin{aligned}\n",
    "\\lambda \\ge 0 \\\\\n",
    "y_i(\\vec w^T\\vec x_i + b)-1 \\ge 0 \\\\\n",
    "\\lambda[y_i(\\vec w^T\\vec x_i + b)-1] = 0\n",
    "\\end{aligned}\n",
    "\\right.\n",
    "$$"
   ]
  },
  {
   "cell_type": "markdown",
   "id": "dadca917",
   "metadata": {},
   "source": [
    "作为support vector, 由于其在约束条件边界上, 故$\\lambda > 0$而$y_i(\\vec w^T \\vec x_i + b) - 1 = 0$即为$$y_if(\\vec x_i) = 1$$"
   ]
  },
  {
   "cell_type": "markdown",
   "id": "0076f41e",
   "metadata": {},
   "source": [
    "随后利用凸函数对偶问题最优化求解"
   ]
  },
  {
   "cell_type": "markdown",
   "id": "0df17709",
   "metadata": {},
   "source": [
    "#### Kernel Function核函数"
   ]
  },
  {
   "cell_type": "markdown",
   "id": "18e45f95",
   "metadata": {},
   "source": []
  },
  {
   "cell_type": "markdown",
   "id": "7c026203",
   "metadata": {},
   "source": [
    "---"
   ]
  },
  {
   "cell_type": "markdown",
   "id": "837798ad",
   "metadata": {},
   "source": [
    "## 贝叶斯分类器"
   ]
  },
  {
   "cell_type": "code",
   "execution_count": null,
   "id": "07b82157",
   "metadata": {},
   "outputs": [],
   "source": []
  }
 ],
 "metadata": {
  "kernelspec": {
   "display_name": "Python 3 (ipykernel)",
   "language": "python",
   "name": "python3"
  },
  "language_info": {
   "codemirror_mode": {
    "name": "ipython",
    "version": 3
   },
   "file_extension": ".py",
   "mimetype": "text/x-python",
   "name": "python",
   "nbconvert_exporter": "python",
   "pygments_lexer": "ipython3",
   "version": "3.9.2"
  }
 },
 "nbformat": 4,
 "nbformat_minor": 5
}
