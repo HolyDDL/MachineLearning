{
 "cells": [
  {
   "cell_type": "markdown",
   "id": "77d5d716",
   "metadata": {},
   "source": [
    "# Machine Learning"
   ]
  },
  {
   "cell_type": "markdown",
   "id": "64520cfa",
   "metadata": {},
   "source": [
    "## Gradient Desent"
   ]
  },
  {
   "cell_type": "markdown",
   "id": "e16dbc8f",
   "metadata": {},
   "source": [
    "* 根据不同的初始取值, 可能下降到不同的局部最优解(极小值)中."
   ]
  },
  {
   "cell_type": "markdown",
   "id": "4fa2177d",
   "metadata": {},
   "source": [
    "参数更新算法(for $\\theta_j$ in $\\vec \\theta$需要同时进行参数更新, 意味着需要先将被赋值的$\\theta_j$先作为一个$temp$变量, 在所有参数均有相应的$temp$后, 再将这些$\\theta_j := temp$)$$\\theta_j := \\theta_j - \\alpha \\frac{\\partial J(\\vec \\theta)}{\\partial \\theta_j}$$"
   ]
  },
  {
   "cell_type": "markdown",
   "id": "17d8fab7",
   "metadata": {},
   "source": [
    "$:=$表示赋值, $\\theta_j$表示要更新的参数, $\\alpha$表示学习率"
   ]
  },
  {
   "cell_type": "markdown",
   "id": "a32c8b3b",
   "metadata": {},
   "source": [
    "## Kernel trick\n",
    "\n"
   ]
  },
  {
   "cell_type": "markdown",
   "id": "a4dec7a0",
   "metadata": {},
   "source": [
    "用于将输入向量$x$形成非线性拟合效果"
   ]
  },
  {
   "cell_type": "markdown",
   "id": "6bc52e79",
   "metadata": {},
   "source": [
    "需要拟合的特征函数(形式线性)记作$$y = \\theta_0 + \\theta_1f_1 + \\theta_2f_2 + \\theta_3f_3 = \\vec w^T \\vec f$$"
   ]
  },
  {
   "cell_type": "markdown",
   "id": "999ba0ec",
   "metadata": {},
   "source": [
    "$f_i = f_i(x)$是一个关于$x$的函数, 在这里进行非线性映射. 即可用线性凸优化拟合非线性函数. $f_i\n",
    "$也是数据的特征"
   ]
  },
  {
   "cell_type": "markdown",
   "id": "f640cbfa",
   "metadata": {},
   "source": [
    "例如Gaussian Kernel$$f_i(x) = exp(\\frac{||x-l^{(i)}||^2}{2\\sigma^2})$$其中\n",
    "$l^{(i)}$是空间中选取的特征点, $\\sigma$是高斯核的参数, 该式子刻画了样本$x$到空间某些特征点处距离的大小. 其值落在(0,1]之间, 与特征点重合时为1, 无限远处为0. \n",
    "\n",
    "通过机器学习参数调整, 即可根据样本标签$y$与样本$x$在原空间中画出非线性边界分割正反类. "
   ]
  },
  {
   "cell_type": "markdown",
   "id": "e73057c3",
   "metadata": {},
   "source": [
    "若在前式的$\\vec f$中增加一个分量$f_0$, 且令$f_0 = 1$, 则其就是该类线性拟合的偏置bias"
   ]
  },
  {
   "cell_type": "markdown",
   "id": "0838c857",
   "metadata": {},
   "source": [
    "在选取$l^{(i)}$特征点时, 可以将样本作为特征点. 即有多少样本, 其特征就有多少个. $\\vec f$就有多少维度.(不考虑bias). 需要优化的参数$\\vec \\theta$就有多少维度(不考虑bias)"
   ]
  },
  {
   "cell_type": "code",
   "execution_count": null,
   "id": "4ba41700",
   "metadata": {},
   "outputs": [],
   "source": []
  }
 ],
 "metadata": {
  "kernelspec": {
   "display_name": "Python 3 (ipykernel)",
   "language": "python",
   "name": "python3"
  },
  "language_info": {
   "codemirror_mode": {
    "name": "ipython",
    "version": 3
   },
   "file_extension": ".py",
   "mimetype": "text/x-python",
   "name": "python",
   "nbconvert_exporter": "python",
   "pygments_lexer": "ipython3",
   "version": "3.9.2"
  }
 },
 "nbformat": 4,
 "nbformat_minor": 5
}
