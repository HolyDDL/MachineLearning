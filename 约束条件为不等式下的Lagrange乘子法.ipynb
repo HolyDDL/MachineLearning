{
 "cells": [
  {
   "cell_type": "markdown",
   "id": "a4ca5355",
   "metadata": {},
   "source": [
    "对于需要优化的多元函数问题$$\\min f(\\vec x)$$ $$s.t. \\qquad g(\\vec x) \\le 0$$"
   ]
  },
  {
   "cell_type": "markdown",
   "id": "91489e7e",
   "metadata": {},
   "source": [
    "其有两种情况"
   ]
  },
  {
   "cell_type": "markdown",
   "id": "7afcd0c8",
   "metadata": {},
   "source": [
    "### case 1:   min值在约束条件内部取得"
   ]
  },
  {
   "cell_type": "markdown",
   "id": "59be60af",
   "metadata": {},
   "source": [
    "此时, 与$g(\\vec x)$无关, 取得最小值的时候, 只需$\\nabla f = 0$在驻点处求"
   ]
  },
  {
   "cell_type": "markdown",
   "id": "a1e5f316",
   "metadata": {},
   "source": [
    "等价于令Lagrangrian函数$L(\\vec x ,\\lambda) = f(\\vec x) + \\lambda g(\\vec x)$中的$\\lambda = 0$再求解$L(\\vec x, 0)$的最小值"
   ]
  },
  {
   "cell_type": "markdown",
   "id": "6fc8ae7b",
   "metadata": {},
   "source": [
    "### case 2: min在约束条件边界处求得"
   ]
  },
  {
   "cell_type": "markdown",
   "id": "03e3a224",
   "metadata": {},
   "source": [
    "此时, min点处, $\\nabla f$与$\\nabla g$方向总是反向平行的(通过具体例子归纳得出$:)$ ,具体证法待议), 即存在一个$\\lambda > 0$使得$$\\nabla f + \\lambda \\nabla g = 0$$同时还需满足$$g(\\vec x) = 0$$"
   ]
  },
  {
   "cell_type": "markdown",
   "id": "8c22f799",
   "metadata": {},
   "source": [
    "整合为Lagrangrian函数, $L(\\vec x ,\\lambda) = f(\\vec x) + \\lambda g(\\vec x)$的无约束极值问题."
   ]
  },
  {
   "cell_type": "markdown",
   "id": "af4a5d59",
   "metadata": {},
   "source": [
    "## 整合上述两种情况"
   ]
  },
  {
   "cell_type": "markdown",
   "id": "63f40e39",
   "metadata": {},
   "source": [
    "case 1中, $\\lambda = 0$, case 2中, $g(\\vec x) = 0$, 故有:$$\\lambda g(\\vec x) = 0$$\n",
    "同时也有$$\\lambda \\ge 0$$$$g(\\vec x) \\le 0$$"
   ]
  },
  {
   "cell_type": "markdown",
   "id": "d66d2b8b",
   "metadata": {},
   "source": [
    "则得到$Karush-Kuhn-Tucker$即KKT条件:\n",
    "$$\\left\\{\n",
    "\\begin{aligned}\n",
    "\\lambda g(\\vec x) = 0& \\qquad 互补松驰性\\\\\n",
    "\\lambda \\ge 0& \\qquad 对偶可行性 \\\\\n",
    "g(\\vec x) \\le 0& \\qquad 原始可行性\n",
    "\\end{aligned}\n",
    "\\right.\n",
    "$$"
   ]
  },
  {
   "cell_type": "markdown",
   "id": "49a5b7f6",
   "metadata": {},
   "source": [
    "## 扩充到其他条件时"
   ]
  },
  {
   "cell_type": "markdown",
   "id": "069bf019",
   "metadata": {},
   "source": [
    "如果求$\\max f(x)$问题时, 只需要求$\\min - f(x)$即可, "
   ]
  },
  {
   "cell_type": "markdown",
   "id": "2270daa0",
   "metadata": {},
   "source": [
    "如果约束条件$g(\\vec x) \\ge 0$, 则在内部取值无变化, 在边界取值时$\\nabla f$与$\\nabla g$方向相同, 若仍然令$\\lambda \\ge 0$,则需要令Lagrangrian函数为$$L(\\vec x, \\lambda) = f(\\vec x) - \\lambda g(\\vec x)$$ "
   ]
  },
  {
   "cell_type": "markdown",
   "id": "52f2f901",
   "metadata": {},
   "source": [
    "其KKT条件仍不变"
   ]
  },
  {
   "cell_type": "markdown",
   "id": "7a7e1fd1",
   "metadata": {},
   "source": [
    "## 对偶问题"
   ]
  },
  {
   "cell_type": "markdown",
   "id": "e849c407",
   "metadata": {},
   "source": []
  }
 ],
 "metadata": {
  "kernelspec": {
   "display_name": "Python 3 (ipykernel)",
   "language": "python",
   "name": "python3"
  },
  "language_info": {
   "codemirror_mode": {
    "name": "ipython",
    "version": 3
   },
   "file_extension": ".py",
   "mimetype": "text/x-python",
   "name": "python",
   "nbconvert_exporter": "python",
   "pygments_lexer": "ipython3",
   "version": "3.9.2"
  }
 },
 "nbformat": 4,
 "nbformat_minor": 5
}
